{
 "cells": [
  {
   "cell_type": "markdown",
   "metadata": {},
   "source": [
    "### Importing the data"
   ]
  },
  {
   "cell_type": "code",
   "execution_count": 2,
   "metadata": {},
   "outputs": [],
   "source": [
    "import numpy as np \n",
    "import pandas as pd \n",
    "import matplotlib.pyplot as plt \n",
    "\n",
    "## Importing the data\n",
    "data = pd.read_csv('Churn.csv')\n",
    "y = data.iloc[:, -1].values"
   ]
  },
  {
   "cell_type": "markdown",
   "metadata": {},
   "source": [
    "### Understanding the data"
   ]
  },
  {
   "cell_type": "code",
   "execution_count": 4,
   "metadata": {},
   "outputs": [
    {
     "name": "stdout",
     "output_type": "stream",
     "text": [
      "    customerID  gender  SeniorCitizen Partner Dependents  tenure PhoneService  \\\n",
      "0   7590-VHVEG  Female              0     Yes         No       1           No   \n",
      "1   5575-GNVDE    Male              0      No         No      34          Yes   \n",
      "2   3668-QPYBK    Male              0      No         No       2          Yes   \n",
      "3   7795-CFOCW    Male              0      No         No      45           No   \n",
      "4   9237-HQITU  Female              0      No         No       2          Yes   \n",
      "5   9305-CDSKC  Female              0      No         No       8          Yes   \n",
      "6   1452-KIOVK    Male              0      No        Yes      22          Yes   \n",
      "7   6713-OKOMC  Female              0      No         No      10           No   \n",
      "8   7892-POOKP  Female              0     Yes         No      28          Yes   \n",
      "9   6388-TABGU    Male              0      No        Yes      62          Yes   \n",
      "10  9763-GRSKD    Male              0     Yes        Yes      13          Yes   \n",
      "11  7469-LKBCI    Male              0      No         No      16          Yes   \n",
      "12  8091-TTVAX    Male              0     Yes         No      58          Yes   \n",
      "13  0280-XJGEX    Male              0      No         No      49          Yes   \n",
      "14  5129-JLPIS    Male              0      No         No      25          Yes   \n",
      "\n",
      "       MultipleLines InternetService       OnlineSecurity  ...  \\\n",
      "0   No phone service             DSL                   No  ...   \n",
      "1                 No             DSL                  Yes  ...   \n",
      "2                 No             DSL                  Yes  ...   \n",
      "3   No phone service             DSL                  Yes  ...   \n",
      "4                 No     Fiber optic                   No  ...   \n",
      "5                Yes     Fiber optic                   No  ...   \n",
      "6                Yes     Fiber optic                   No  ...   \n",
      "7   No phone service             DSL                  Yes  ...   \n",
      "8                Yes     Fiber optic                   No  ...   \n",
      "9                 No             DSL                  Yes  ...   \n",
      "10                No             DSL                  Yes  ...   \n",
      "11                No              No  No internet service  ...   \n",
      "12               Yes     Fiber optic                   No  ...   \n",
      "13               Yes     Fiber optic                   No  ...   \n",
      "14                No     Fiber optic                  Yes  ...   \n",
      "\n",
      "       DeviceProtection          TechSupport          StreamingTV  \\\n",
      "0                    No                   No                   No   \n",
      "1                   Yes                   No                   No   \n",
      "2                    No                   No                   No   \n",
      "3                   Yes                  Yes                   No   \n",
      "4                    No                   No                   No   \n",
      "5                   Yes                   No                  Yes   \n",
      "6                    No                   No                  Yes   \n",
      "7                    No                   No                   No   \n",
      "8                   Yes                  Yes                  Yes   \n",
      "9                    No                   No                   No   \n",
      "10                   No                   No                   No   \n",
      "11  No internet service  No internet service  No internet service   \n",
      "12                  Yes                   No                  Yes   \n",
      "13                  Yes                   No                  Yes   \n",
      "14                  Yes                  Yes                  Yes   \n",
      "\n",
      "        StreamingMovies        Contract PaperlessBilling  \\\n",
      "0                    No  Month-to-month              Yes   \n",
      "1                    No        One year               No   \n",
      "2                    No  Month-to-month              Yes   \n",
      "3                    No        One year               No   \n",
      "4                    No  Month-to-month              Yes   \n",
      "5                   Yes  Month-to-month              Yes   \n",
      "6                    No  Month-to-month              Yes   \n",
      "7                    No  Month-to-month               No   \n",
      "8                   Yes  Month-to-month              Yes   \n",
      "9                    No        One year               No   \n",
      "10                   No  Month-to-month              Yes   \n",
      "11  No internet service        Two year               No   \n",
      "12                  Yes        One year               No   \n",
      "13                  Yes  Month-to-month              Yes   \n",
      "14                  Yes  Month-to-month              Yes   \n",
      "\n",
      "                PaymentMethod MonthlyCharges  TotalCharges Churn  \n",
      "0            Electronic check          29.85         29.85    No  \n",
      "1                Mailed check          56.95        1889.5    No  \n",
      "2                Mailed check          53.85        108.15   Yes  \n",
      "3   Bank transfer (automatic)          42.30       1840.75    No  \n",
      "4            Electronic check          70.70        151.65   Yes  \n",
      "5            Electronic check          99.65         820.5   Yes  \n",
      "6     Credit card (automatic)          89.10        1949.4    No  \n",
      "7                Mailed check          29.75         301.9    No  \n",
      "8            Electronic check         104.80       3046.05   Yes  \n",
      "9   Bank transfer (automatic)          56.15       3487.95    No  \n",
      "10               Mailed check          49.95        587.45    No  \n",
      "11    Credit card (automatic)          18.95         326.8    No  \n",
      "12    Credit card (automatic)         100.35        5681.1    No  \n",
      "13  Bank transfer (automatic)         103.70        5036.3   Yes  \n",
      "14           Electronic check         105.50       2686.05    No  \n",
      "\n",
      "[15 rows x 21 columns]\n"
     ]
    },
    {
     "data": {
      "text/plain": [
       "(7043, 21)"
      ]
     },
     "execution_count": 4,
     "metadata": {},
     "output_type": "execute_result"
    }
   ],
   "source": [
    "print data.head(15)\n",
    "data.shape"
   ]
  },
  {
   "cell_type": "code",
   "execution_count": 5,
   "metadata": {},
   "outputs": [
    {
     "data": {
      "text/plain": [
       "Index([u'customerID', u'gender', u'SeniorCitizen', u'Partner', u'Dependents',\n",
       "       u'tenure', u'PhoneService', u'MultipleLines', u'InternetService',\n",
       "       u'OnlineSecurity', u'OnlineBackup', u'DeviceProtection', u'TechSupport',\n",
       "       u'StreamingTV', u'StreamingMovies', u'Contract', u'PaperlessBilling',\n",
       "       u'PaymentMethod', u'MonthlyCharges', u'TotalCharges', u'Churn'],\n",
       "      dtype='object')"
      ]
     },
     "execution_count": 5,
     "metadata": {},
     "output_type": "execute_result"
    }
   ],
   "source": [
    "data.columns"
   ]
  },
  {
   "cell_type": "code",
   "execution_count": 6,
   "metadata": {},
   "outputs": [
    {
     "data": {
      "text/html": [
       "<div>\n",
       "<style scoped>\n",
       "    .dataframe tbody tr th:only-of-type {\n",
       "        vertical-align: middle;\n",
       "    }\n",
       "\n",
       "    .dataframe tbody tr th {\n",
       "        vertical-align: top;\n",
       "    }\n",
       "\n",
       "    .dataframe thead th {\n",
       "        text-align: right;\n",
       "    }\n",
       "</style>\n",
       "<table border=\"1\" class=\"dataframe\">\n",
       "  <thead>\n",
       "    <tr style=\"text-align: right;\">\n",
       "      <th></th>\n",
       "      <th>SeniorCitizen</th>\n",
       "      <th>tenure</th>\n",
       "      <th>MonthlyCharges</th>\n",
       "    </tr>\n",
       "  </thead>\n",
       "  <tbody>\n",
       "    <tr>\n",
       "      <th>count</th>\n",
       "      <td>7043.000000</td>\n",
       "      <td>7043.000000</td>\n",
       "      <td>7043.000000</td>\n",
       "    </tr>\n",
       "    <tr>\n",
       "      <th>mean</th>\n",
       "      <td>0.162147</td>\n",
       "      <td>32.371149</td>\n",
       "      <td>64.761692</td>\n",
       "    </tr>\n",
       "    <tr>\n",
       "      <th>std</th>\n",
       "      <td>0.368612</td>\n",
       "      <td>24.559481</td>\n",
       "      <td>30.090047</td>\n",
       "    </tr>\n",
       "    <tr>\n",
       "      <th>min</th>\n",
       "      <td>0.000000</td>\n",
       "      <td>0.000000</td>\n",
       "      <td>18.250000</td>\n",
       "    </tr>\n",
       "    <tr>\n",
       "      <th>25%</th>\n",
       "      <td>0.000000</td>\n",
       "      <td>9.000000</td>\n",
       "      <td>35.500000</td>\n",
       "    </tr>\n",
       "    <tr>\n",
       "      <th>50%</th>\n",
       "      <td>0.000000</td>\n",
       "      <td>29.000000</td>\n",
       "      <td>70.350000</td>\n",
       "    </tr>\n",
       "    <tr>\n",
       "      <th>75%</th>\n",
       "      <td>0.000000</td>\n",
       "      <td>55.000000</td>\n",
       "      <td>89.850000</td>\n",
       "    </tr>\n",
       "    <tr>\n",
       "      <th>max</th>\n",
       "      <td>1.000000</td>\n",
       "      <td>72.000000</td>\n",
       "      <td>118.750000</td>\n",
       "    </tr>\n",
       "  </tbody>\n",
       "</table>\n",
       "</div>"
      ],
      "text/plain": [
       "       SeniorCitizen       tenure  MonthlyCharges\n",
       "count    7043.000000  7043.000000     7043.000000\n",
       "mean        0.162147    32.371149       64.761692\n",
       "std         0.368612    24.559481       30.090047\n",
       "min         0.000000     0.000000       18.250000\n",
       "25%         0.000000     9.000000       35.500000\n",
       "50%         0.000000    29.000000       70.350000\n",
       "75%         0.000000    55.000000       89.850000\n",
       "max         1.000000    72.000000      118.750000"
      ]
     },
     "execution_count": 6,
     "metadata": {},
     "output_type": "execute_result"
    }
   ],
   "source": [
    "data.describe()"
   ]
  },
  {
   "cell_type": "markdown",
   "metadata": {},
   "source": [
    "### Data Manipulation"
   ]
  },
  {
   "cell_type": "code",
   "execution_count": 9,
   "metadata": {},
   "outputs": [],
   "source": [
    "## Data Manipulation\n",
    "\n",
    "#dropping customer ID, since it does not affects the prediction\n",
    "mylist = data['customerID']\n",
    "data = data.drop('customerID', 1)"
   ]
  },
  {
   "cell_type": "code",
   "execution_count": 10,
   "metadata": {},
   "outputs": [],
   "source": [
    "#binary categorical variables into 1 and 0\n",
    "data['gender'] = data['gender'].map({'Male': 1, 'Female': 0})\n",
    "data['Partner'] = data['Partner'].map({'Yes': 1, 'No': 0})\n",
    "data['Dependents'] = data['Dependents'].map({'Yes': 1, 'No': 0})\n",
    "data['PhoneService'] = data['PhoneService'].map({'Yes': 1, 'No': 0})\n",
    "data['PaperlessBilling'] = data['PaperlessBilling'].map({'Yes': 1, 'No': 0})\n",
    "data['Churn'] = data['Churn'].map({'Yes': 1, 'No': 0})"
   ]
  },
  {
   "cell_type": "code",
   "execution_count": 11,
   "metadata": {},
   "outputs": [],
   "source": [
    "#Label Encoding and OneHotEncoding\n",
    "from sklearn.preprocessing import LabelEncoder, OneHotEncoder\n",
    "X = data.iloc[:, :-2].values\n",
    "encoder_X = LabelEncoder()\n",
    "encoder_y = LabelEncoder()\n",
    "labelencode_list = [6, 7, 8, 9, 10, 11, 12, 13, 14, 16]\n",
    "for i in labelencode_list:\n",
    " \tX[:, i] = encoder_X.fit_transform(X[:, i])\n",
    "y = encoder_y.fit_transform(y)"
   ]
  },
  {
   "cell_type": "code",
   "execution_count": 13,
   "metadata": {},
   "outputs": [],
   "source": [
    "for i in ['gender', 'Partner', 'SeniorCitizen', 'Dependents', 'MultipleLines', 'InternetService', \n",
    "'TechSupport', 'StreamingTV', 'Contract']:\n",
    "\tdata.groupby(i).Churn.mean(),'\\n' "
   ]
  },
  {
   "cell_type": "markdown",
   "metadata": {},
   "source": [
    "### Data Visualization"
   ]
  },
  {
   "cell_type": "code",
   "execution_count": 14,
   "metadata": {},
   "outputs": [
    {
     "data": {
      "text/plain": [
       "<matplotlib.collections.PathCollection at 0x7fdd4ee4c5d0>"
      ]
     },
     "execution_count": 14,
     "metadata": {},
     "output_type": "execute_result"
    },
    {
     "data": {
      "image/png": "[encoded data removed]",
      "text/plain": [
       "<Figure size 432x288 with 1 Axes>"
      ]
     },
     "metadata": {
      "needs_background": "light"
     },
     "output_type": "display_data"
    }
   ],
   "source": [
    "#Scatter plot of numerical variables\n",
    "month_plot = data.groupby('MonthlyCharges').Churn.mean().reset_index()\n",
    "myX = month_plot['MonthlyCharges']\n",
    "myY = month_plot['Churn']\n",
    "plt.title('Monthly Charges and Churn Rate')\n",
    "plt.scatter(myX, myY)"
   ]
  },
  {
   "cell_type": "code",
   "execution_count": 15,
   "metadata": {},
   "outputs": [
    {
     "data": {
      "text/plain": [
       "<matplotlib.collections.PathCollection at 0x7fdd4cd77ad0>"
      ]
     },
     "execution_count": 15,
     "metadata": {},
     "output_type": "execute_result"
    },
    {
     "data": {
      "image/png": "[encoded data removed]",
      "text/plain": [
       "<Figure size 432x288 with 1 Axes>"
      ]
     },
     "metadata": {
      "needs_background": "light"
     },
     "output_type": "display_data"
    }
   ],
   "source": [
    "tenure_plot = data.groupby('tenure').Churn.mean().reset_index()\n",
    "myX = tenure_plot['tenure']\n",
    "myY = tenure_plot['Churn']\n",
    "plt.title('Tenure and Churn Rate')\n",
    "plt.scatter(myX, myY)"
   ]
  },
  {
   "cell_type": "code",
   "execution_count": 16,
   "metadata": {},
   "outputs": [
    {
     "data": {
      "text/plain": [
       "Text(0.5,1,'Churn Distribution accoring to Partner')"
      ]
     },
     "execution_count": 16,
     "metadata": {},
     "output_type": "execute_result"
    },
    {
     "data": {
      "image/png": "[encoded data removed]",
      "text/plain": [
       "<Figure size 432x288 with 1 Axes>"
      ]
     },
     "metadata": {
      "needs_background": "light"
     },
     "output_type": "display_data"
    }
   ],
   "source": [
    "#Bar graph of categorical variables\n",
    "x = data.groupby('Partner').Churn.mean()\n",
    "label = ['No', 'Yes']\n",
    "share = [x[0], x[1]]\n",
    "colors = ['red', 'green']\n",
    "index = np.arange(len(label))\n",
    "plt.bar(index, share, color = colors)\n",
    "plt.xlabel('Partner', fontsize = 10)\n",
    "plt.ylabel('Churn Rate', fontsize = 10)\n",
    "plt.xticks(index, label, fontsize = 8)\n",
    "plt.title('Churn Distribution accoring to Partner')"
   ]
  },
  {
   "cell_type": "code",
   "execution_count": 17,
   "metadata": {},
   "outputs": [
    {
     "data": {
      "text/plain": [
       "Text(0.5,1,'Churn Distribution accoring to Payment Mode')"
      ]
     },
     "execution_count": 17,
     "metadata": {},
     "output_type": "execute_result"
    },
    {
     "data": {
      "image/png": "[encoded data removed]",
      "text/plain": [
       "<Figure size 432x288 with 1 Axes>"
      ]
     },
     "metadata": {
      "needs_background": "light"
     },
     "output_type": "display_data"
    }
   ],
   "source": [
    "x = data.groupby('PaymentMethod').Churn.mean()\n",
    "my_colors = ['orange', 'brown', 'blue', 'red']\n",
    "label = ['Bank Transfer', 'Credit Card', 'e-Check', 'Mailed Check']\n",
    "share = [x[0], x[1], x[2], x[3]]\n",
    "index = np.arange(len(label))\n",
    "plt.bar(index, share, color = my_colors)\n",
    "plt.xlabel('Payment Method', fontsize = 10)\n",
    "plt.ylabel('Churn Rate', fontsize = 10)\n",
    "plt.xticks(index, label, fontsize = 8)\n",
    "plt.title('Churn Distribution accoring to Payment Mode')\n"
   ]
  },
  {
   "cell_type": "code",
   "execution_count": 18,
   "metadata": {},
   "outputs": [
    {
     "data": {
      "text/plain": [
       "Text(0.5,1,'Churn Distribution accoring to Contract Type')"
      ]
     },
     "execution_count": 18,
     "metadata": {},
     "output_type": "execute_result"
    },
    {
     "data": {
      "image/png": "[encoded data removed]",
      "text/plain": [
       "<Figure size 432x288 with 1 Axes>"
      ]
     },
     "metadata": {
      "needs_background": "light"
     },
     "output_type": "display_data"
    }
   ],
   "source": [
    "x = data.groupby('Contract').Churn.mean()\n",
    "my_colors = ['orange', 'red', 'blue']\n",
    "label = ['Month to Month', '1 Yr', '2 Yr']\n",
    "share = [x[0], x[1], x[2]]\n",
    "index = np.arange(len(label))\n",
    "plt.bar(index, share, color = my_colors)\n",
    "plt.xlabel('Contract Type', fontsize = 10)\n",
    "plt.ylabel('Churn Rate', fontsize = 10)\n",
    "plt.xticks(index, label, fontsize = 8)\n",
    "plt.title('Churn Distribution accoring to Contract Type')"
   ]
  },
  {
   "cell_type": "code",
   "execution_count": 20,
   "metadata": {},
   "outputs": [
    {
     "data": {
      "text/plain": [
       "Text(0.5,1,'Churn Distribution accoring to Tech Support')"
      ]
     },
     "execution_count": 20,
     "metadata": {},
     "output_type": "execute_result"
    },
    {
     "data": {
      "image/png": "[encoded data removed]",
      "text/plain": [
       "<Figure size 432x288 with 1 Axes>"
      ]
     },
     "metadata": {
      "needs_background": "light"
     },
     "output_type": "display_data"
    }
   ],
   "source": [
    "x = data.groupby('TechSupport').Churn.mean()\n",
    "my_colors = ['orange', 'brown', 'blue']\n",
    "label = ['No Tech Suppport', 'No Internet', 'Tech Support']\n",
    "share = [x[0], x[1], x[2]]\n",
    "index = np.arange(len(label))\n",
    "plt.bar(index, share, color = my_colors)\n",
    "plt.xlabel('Tech Support', fontsize = 10)\n",
    "plt.ylabel('Churn Rate', fontsize = 10)\n",
    "plt.xticks(index, label, fontsize = 8)\n",
    "plt.title('Churn Distribution accoring to Tech Support')"
   ]
  },
  {
   "cell_type": "markdown",
   "metadata": {},
   "source": [
    "### Conclusion: What all did you understand from the above charts\n",
    "We came to a conclusion after the visualization that:\n",
    "> There is no significant trend between Monthly Charges and Churn Rate\n",
    "> Churn Rate is dependent on the Tenure (Higher Tenure leads to Lower Churn Rate)\n",
    "> People with no partner, no tech support, on month to month contract and who pay via e-check have tendency of churning"
   ]
  },
  {
   "cell_type": "markdown",
   "metadata": {},
   "source": [
    "### Implement Machine Learning Models"
   ]
  },
  {
   "cell_type": "markdown",
   "metadata": {},
   "source": [
    "# Implementing Extreme Gradient Boosting Model (XGBOOST)"
   ]
  },
  {
   "cell_type": "code",
   "execution_count": 21,
   "metadata": {},
   "outputs": [],
   "source": [
    "from sklearn.metrics import accuracy_score, classification_report\n",
    "from sklearn.model_selection import train_test_split, GridSearchCV, StratifiedKFold\n",
    "from xgboost import XGBClassifier, plot_importance\n",
    "\n",
    "X_train, X_test, y_train, y_test = train_test_split(X, y, test_size = 0.15, random_state = 1)"
   ]
  },
  {
   "cell_type": "code",
   "execution_count": 28,
   "metadata": {},
   "outputs": [
    {
     "data": {
      "text/plain": [
       "XGBClassifier(base_score=0.5, booster='gbtree', colsample_bylevel=1,\n",
       "       colsample_bytree=1, gamma=0, learning_rate=0.09, max_delta_step=0,\n",
       "       max_depth=5, min_child_weight=1, missing=None, n_estimators=100,\n",
       "       n_jobs=1, nthread=None, objective='binary:logistic', random_state=1,\n",
       "       reg_alpha=0, reg_lambda=1, scale_pos_weight=1, seed=None,\n",
       "       silent=True, subsample=1)"
      ]
     },
     "execution_count": 28,
     "metadata": {},
     "output_type": "execute_result"
    }
   ],
   "source": [
    "xgb = XGBClassifier(n_estimators = 100, learning_rate=0.09, max_depth = 5, random_state = 1)\t\n",
    "xgb.fit(X_train, y_train)"
   ]
  },
  {
   "cell_type": "markdown",
   "metadata": {},
   "source": [
    "### Model Evaluation"
   ]
  },
  {
   "cell_type": "code",
   "execution_count": 29,
   "metadata": {},
   "outputs": [
    {
     "name": "stdout",
     "output_type": "stream",
     "text": [
      "XGBoost on training set: 83.62846642165051\n"
     ]
    }
   ],
   "source": [
    "#Accuracy on Training Set\n",
    "y_pred = xgb.predict(X_train)\n",
    "accuracy = accuracy_score(y_train, y_pred)\n",
    "print 'XGBoost on training set:', accuracy*100"
   ]
  },
  {
   "cell_type": "code",
   "execution_count": 30,
   "metadata": {},
   "outputs": [
    {
     "name": "stdout",
     "output_type": "stream",
     "text": [
      "XGBoost on validation set: 81.45695364238411\n"
     ]
    }
   ],
   "source": [
    "#Accuracy on Test (validation) Set\n",
    "y_pred = xgb.predict(X_test)\n",
    "accuracy = accuracy_score(y_test, y_pred)\n",
    "print 'XGBoost on validation set:', accuracy*100"
   ]
  },
  {
   "cell_type": "code",
   "execution_count": 31,
   "metadata": {},
   "outputs": [
    {
     "name": "stdout",
     "output_type": "stream",
     "text": [
      "              precision    recall  f1-score   support\n",
      "\n",
      "           0       0.87      0.89      0.88       798\n",
      "           1       0.63      0.59      0.61       259\n",
      "\n",
      "   micro avg       0.81      0.81      0.81      1057\n",
      "   macro avg       0.75      0.74      0.74      1057\n",
      "weighted avg       0.81      0.81      0.81      1057\n",
      "\n"
     ]
    }
   ],
   "source": [
    "print classification_report(y_test, y_pred)"
   ]
  },
  {
   "cell_type": "code",
   "execution_count": 42,
   "metadata": {},
   "outputs": [
    {
     "name": "stdout",
     "output_type": "stream",
     "text": [
      "Cross Validation Mean: 80.60470327614085 \n",
      "Standard Deviation: 1.2885829529903008\n"
     ]
    }
   ],
   "source": [
    "# Stratified k-fold cross validation evaluation of xgboost model\n",
    "from numpy import loadtxt\n",
    "import xgboost\n",
    "from sklearn.model_selection import StratifiedKFold\n",
    "from sklearn.model_selection import cross_val_score\n",
    "# load data\n",
    "dataset = pd.read_csv('Churn.csv')\n",
    "dataset = dataset.drop('customerID', 1)\n",
    "# split data into X and y\n",
    "dataset['gender'] = dataset['gender'].map({'Male': 1, 'Female': 0})\n",
    "dataset['Partner'] = dataset['Partner'].map({'Yes': 1, 'No': 0})\n",
    "dataset['Dependents'] = dataset['Dependents'].map({'Yes': 1, 'No': 0})\n",
    "dataset['PhoneService'] = dataset['PhoneService'].map({'Yes': 1, 'No': 0})\n",
    "dataset['PaperlessBilling'] = dataset['PaperlessBilling'].map({'Yes': 1, 'No': 0})\n",
    "\n",
    "#Label Encoding and OneHotEncoding\n",
    "from sklearn.preprocessing import LabelEncoder, OneHotEncoder\n",
    "X = dataset.iloc[:, :-2].values\n",
    "encoder_X = LabelEncoder()\n",
    "encoder_y = LabelEncoder()\n",
    "labelencode_list = [6, 7, 8, 9, 10, 11, 12, 13, 14, 16]\n",
    "for i in labelencode_list:\n",
    " \tX[:, i] = encoder_X.fit_transform(X[:, i])\n",
    "    \n",
    "dataset['Churn'] = dataset['Churn'].map({'Yes': 1, 'No': 0})\n",
    "Y = dataset.Churn\n",
    "# CV model\n",
    "model = xgboost.XGBClassifier()\n",
    "kfold = StratifiedKFold(n_splits=10, random_state=7)\n",
    "results = cross_val_score(model, X, Y, cv = kfold)\n",
    "print 'Cross Validation Mean:', results.mean()*100, '\\nStandard Deviation:', results.std()*100"
   ]
  },
  {
   "cell_type": "code",
   "execution_count": 32,
   "metadata": {},
   "outputs": [
    {
     "data": {
      "text/plain": [
       "<matplotlib.axes._subplots.AxesSubplot at 0x7fdd45474fd0>"
      ]
     },
     "execution_count": 32,
     "metadata": {},
     "output_type": "execute_result"
    },
    {
     "data": {
      "image/png": "[encoded data removed]",
      "text/plain": [
       "<Figure size 720x576 with 1 Axes>"
      ]
     },
     "metadata": {
      "needs_background": "light"
     },
     "output_type": "display_data"
    }
   ],
   "source": [
    "fig, ax = plt.subplots(figsize=(10,8))\n",
    "plot_importance(xgb, ax = ax)"
   ]
  },
  {
   "cell_type": "markdown",
   "metadata": {},
   "source": [
    "### Final Conclusions"
   ]
  },
  {
   "cell_type": "markdown",
   "metadata": {},
   "source": [
    "To avoid customer churning, company must take following measures:\n",
    "\n",
    "> Encourage people to go for 2 year contracts by reducing prices of such plan\n",
    "\n",
    "> Increase focus on providing tech support to every customer\n",
    "\n",
    "> Focus on customers paying via e-Checks. Because they have tendency to leave. By concentrating and paying special attention to such customers, company might reduce churning rates\n",
    "\n",
    "> Providing extra attention and services to new customers (ones with lesser tenure)\n",
    "\n",
    "These factors absolutely make sense because, new customers are considered as less loyal and they have high tendency to stop services. In addition to this, if one takes lengthy contract, then he/she is less likely to churn because that customer has invested in the long run and doesn't wants money to get wasted.\n",
    "It might be also possible that people who pay via e-Checks might not visit offices and hence, have no awareness about tech support and hence churn out."
   ]
  },
  {
   "cell_type": "markdown",
   "metadata": {},
   "source": [
    "Following offers can be made by the company:\n",
    "> Discount for first few months to new customers\n",
    "> Benefits for customers with higher tenure in order to make customers go for longer durations\n",
    "> Extra services to customers opting for year long or 2 year contracts\n",
    "> Cashbacks on card payments \n",
    "> Free/Regular Tech Assistance to every customer\n",
    "> Extra benefits to people with no partner"
   ]
  },
  {
   "cell_type": "markdown",
   "metadata": {},
   "source": [
    "If these actions were implemented, we can determine the success by examining the following:\n",
    "> Decrease in number of customers with month to month contracts\n",
    "> Significant increase in customers availing tech support\n",
    "> Gradual increase in mean tenure of customers"
   ]
  }
 ],
 "metadata": {
  "kernelspec": {
   "display_name": "Python 2",
   "language": "python",
   "name": "python2"
  },
  "language_info": {
   "codemirror_mode": {
    "name": "ipython",
    "version": 2
   },
   "file_extension": ".py",
   "mimetype": "text/x-python",
   "name": "python",
   "nbconvert_exporter": "python",
   "pygments_lexer": "ipython2",
   "version": "2.7.15+"
  }
 },
 "nbformat": 4,
 "nbformat_minor": 2
}
